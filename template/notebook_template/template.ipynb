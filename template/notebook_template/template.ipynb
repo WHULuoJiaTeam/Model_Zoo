{
 "cells": [
  {
   "cell_type": "markdown",
   "id": "7bd371b7",
   "metadata": {},
   "source": [
    "# ==XX模型示例==\n",
    "## 目录\n",
    "\n",
    "- [Readme](#readme)\n",
    "  - [目录](#目录)\n",
    "  - [模型说明](#模型说明)\n",
    "  - [模型架构](#模型架构)\n",
    "  - [数据集](#数据集)\n",
    "  - [环境要求](#环境要求)\n",
    "  - [预训练模型（可选）](#预训练模型可选)\n",
    "  - [快速入门（可选）](#快速入门可选)\n",
    "  - [脚本说明](#脚本说明)\n",
    "    - [脚本和示例代码](#脚本和示例代码)\n",
    "    - [训练过程](#训练过程)\n",
    "      - [脚本参数](#脚本参数)\n",
    "      - [训练](#训练)\n",
    "      - [分布式训练](#分布式训练)\n",
    "    - [评估过程](#评估过程)\n",
    "    - [推理过程](#推理过程)\n",
    "- [随机情况说明](#随机情况说明)\n",
    "- [ModelZoo主页](#modelzoo主页)\n",
    "\n",
    "## [模型说明](#目录)\n",
    "\n",
    "==**（添加模型说明）**==\n",
    "\n",
    "## [模型架构](#目录)\n",
    "\n",
    "==**（例如添加模型架构图）**==\n",
    "\n",
    "## [数据集](#目录)\n",
    "\n",
    "==**（添加例如 数据集介绍、数据集链接、数据集文件结构、数据集处理方法）**==\n",
    "\n",
    "## [环境要求](#目录)\n",
    "- 硬件 Ascend\n",
    "    - 使用 Ascend处理器 或 GPU 准备硬件环境。\n",
    "- 框架\n",
    "    - [LuojiaNet](http://58.48.42.237/luojiaNet/)\n",
    "- 更多关于LuojiaNet的信息，请查看以下资源：\n",
    "    - [LuojiaNet tutorials](http://58.48.42.237/luojiaNet/tutorial/quickstart/)\n",
    "    - [LuojiaNet Python API](http://58.48.42.237/luojiaNet/luojiaNetapi/)\n",
    "  \n",
    "## [预训练模型（可选）](#目录)\n",
    "\n",
    "==(**预训练模型或已训练好的模型**)==\n",
    "\n",
    "## [快速入门（可选）](#目录)\n",
    "==**（不同硬件平台的使用方法）**==\n",
    "\n",
    "## [脚本说明](#目录)\n",
    "\n",
    "### [脚本和示例代码](#目录)\n",
    "==**（代码结构）**==\n",
    "\n"
   ]
  },
  {
   "cell_type": "markdown",
   "id": "bc3262b2",
   "metadata": {},
   "source": [
    "### [数据加载](#目录)\n",
    "==**（添加数据加载代码的cell以及部分示例）**=="
   ]
  },
  {
   "cell_type": "code",
   "execution_count": null,
   "id": "dbdd89f5",
   "metadata": {},
   "outputs": [],
   "source": []
  },
  {
   "cell_type": "markdown",
   "id": "436cf81d",
   "metadata": {},
   "source": [
    "### [训练过程](#目录)\n",
    "\n",
    "#### [脚本参数](#目录)\n",
    "==**（训练时的参数介绍，如：config.py,config.yaml,paraparser 等）**==\n",
    "\n",
    "#### [训练](#目录)\n",
    "==**（如何训练）**==\n",
    "\n",
    "#### [训练代码cell以及结果](#目录)\n",
    "==**（添加训练代码的cell以及结果）**==\n",
    "\n"
   ]
  },
  {
   "cell_type": "code",
   "execution_count": null,
   "id": "0cc86d6d",
   "metadata": {},
   "outputs": [],
   "source": [
    "! python train.py"
   ]
  },
  {
   "cell_type": "markdown",
   "id": "901b6314",
   "metadata": {},
   "source": [
    "### [评估过程](#目录)\n",
    "==**（如何进行评估）**==\n",
    "\n",
    "### [推理过程](#目录)\n",
    "==**（如何进行推理）**==\n",
    "\n",
    "### [推理代码cell以及结果](#目录)\n",
    "==**（添加推理代码的cell以及结果）**==\n",
    "\n"
   ]
  },
  {
   "cell_type": "code",
   "execution_count": null,
   "id": "cd49ed8a",
   "metadata": {},
   "outputs": [],
   "source": [
    "! pred.py"
   ]
  },
  {
   "cell_type": "markdown",
   "id": "18d1541c",
   "metadata": {},
   "source": [
    "# [随机情况说明](#目录)\n",
    "\n",
    "在 ==**(xxxx)**==，我们设置了权重初始化的种子。\n",
    "\n",
    "# [ModelZoo主页](#目录)\n",
    "\n",
    "请浏览[Model Zoo](https://github.com/WHULuoJiaTeam/Model_Zoo)。\n"
   ]
  }
 ],
 "metadata": {
  "kernelspec": {
   "display_name": "Python 3 (ipykernel)",
   "language": "python",
   "name": "python3"
  },
  "language_info": {
   "codemirror_mode": {
    "name": "ipython",
    "version": 3
   },
   "file_extension": ".py",
   "mimetype": "text/x-python",
   "name": "python",
   "nbconvert_exporter": "python",
   "pygments_lexer": "ipython3",
   "version": "3.9.12"
  }
 },
 "nbformat": 4,
 "nbformat_minor": 5
}
